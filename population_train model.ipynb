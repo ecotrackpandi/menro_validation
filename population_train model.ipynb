import pandas as pd
import matplotlib.pyplot as plt
from sklearn.linear_model import LinearRegression
from sklearn.model_selection import train_test_split
from sklearn.metrics import mean_absolute_error, mean_squared_error, r2_score
import numpy as np
import os

# ---- CONFIG ----
file_path = "MENRO_EXCEL FILES (2).xlsx"
output_dir = "population_plots"
excel_output = "Population_Predictions_and_Metrics.xlsx"

# ---- SETUP ----
os.makedirs(output_dir, exist_ok=True)
xls = pd.ExcelFile(file_path)
summary_metrics = []
excel_writer = pd.ExcelWriter(excel_output, engine="xlsxwriter")

# ---- PROCESS EACH BARANGAY SHEET ----
for sheet in xls.sheet_names:
    df = xls.parse(sheet)

    # Check required columns
    if "Year" not in df.columns or "Actual Population" not in df.columns:
        continue

    # Clean and prepare
    df_pop = df[['Year', 'Actual Population']].drop_duplicates().dropna()
    if df_pop.shape[0] < 5:
        continue

    X = df_pop[['Year']]
    y = df_pop['Actual Population']

    # Split chronologically
    X_train, X_val, y_train, y_val = train_test_split(X, y, test_size=0.2, shuffle=False)

    # Train model
    model = LinearRegression()
    model.fit(X_train, y_train)

    # Predict all
    df_pop['Linear Model Data'] = model.predict(X)

    # Create columns
    df_pop['Training Data'] = np.where(df_pop['Year'].isin(X_train['Year']), df_pop['Actual Population'], np.nan)
    df_pop['Validation Data'] = np.where(df_pop['Year'].isin(X_val['Year']), df_pop['Actual Population'], np.nan)

    # Reorder columns
    df_pop = df_pop[['Year', 'Actual Population', 'Training Data', 'Validation Data', 'Linear Model Data']]

    # ---- PLOT ----
    plt.figure(figsize=(10, 5))
    plt.plot(X, df_pop['Actual Population'], label='Actual Population', color='black')
    plt.plot(X_train, y_train, label='Training Data', color='blue', marker='o')
    plt.plot(X_val, y_val, label='Validation Data', color='orange', marker='s')
    plt.plot(X, df_pop['Linear Model Data'], label='Linear Model Data', linestyle='--', color='red')
    plt.xlabel('Year')
    plt.ylabel('Population')
    plt.title(f'Population Forecast - {sheet}')
    plt.legend()
    plt.grid(True)
    plt.tight_layout()

    # Save plot
    plot_path = f"{output_dir}/{sheet}_population_forecast.png"
    plt.savefig(plot_path)
    plt.close()

    # Write to Excel
    sheet_name = sheet[:31]
    df_pop.to_excel(excel_writer, sheet_name=sheet_name, index=False)
    worksheet = excel_writer.sheets[sheet_name]
    worksheet.insert_image("G2", plot_path)

    # Metrics
    y_val_pred = model.predict(X_val)
    mae = mean_absolute_error(y_val, y_val_pred)
    rmse = np.sqrt(mean_squared_error(y_val, y_val_pred))
    r2 = r2_score(y_val, y_val_pred)

    summary_metrics.append({
        'Barangay': sheet,
        'MAE': mae,
        'RMSE': rmse,
        'R²': r2
    })

# Summary sheet
metrics_df = pd.DataFrame(summary_metrics)
metrics_df.to_excel(excel_writer, sheet_name="Summary Metrics", index=False)

# Save Excel
excel_writer.close()
print("✅ Done! Excel updated with Training + Validation data, charts, and metrics.")
